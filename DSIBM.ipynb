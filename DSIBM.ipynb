{
 "cells": [
  {
   "cell_type": "markdown",
   "id": "2b5ad3cd",
   "metadata": {},
   "source": [
    "Title-This is IBM Certificate peer to peer exam submission "
   ]
  },
  {
   "cell_type": "markdown",
   "id": "7c2e8f21",
   "metadata": {},
   "source": [
    "# Data Science Exploration Notebook\n",
    "\n",
    "Welcome to this data science exploration notebook! In this notebook, we will delve into various aspects of data science, covering fundamental concepts, popular programming languages, essential libraries, and tools commonly used in the field. Whether you are a beginner seeking an introduction to data science or an experienced practitioner looking to refresh your knowledge, this notebook aims to provide valuable insights and examples.\n",
    "\n"
   ]
  },
  {
   "cell_type": "markdown",
   "id": "7109b33a",
   "metadata": {},
   "source": [
    "### Data Science Languages in Jupyter Notebook for Python\n",
    "\n",
    "1. **Python**\n",
    "   - Widely used for data analysis, machine learning, and scientific computing.\n",
    "   - Popular libraries: NumPy, Pandas, Matplotlib, Seaborn, Scikit-learn.\n",
    "\n",
    "2. **R**\n",
    "   - Statistical programming language with strong data analysis capabilities.\n",
    "   - Preferred for statistical modeling and visualization.\n",
    "   - Common packages: ggplot2, dplyr, tidyr.\n",
    "\n",
    "3. **Julia**\n",
    "   - High-performance language for technical computing.\n",
    "   - Known for its speed and ease of use in numerical and scientific computing.\n",
    "\n",
    "4. **Scala**\n",
    "   - General-purpose programming language.\n",
    "   - Integration with Apache Spark makes it suitable for big data processing.\n",
    "\n",
    "5. **SQL**\n",
    "   - Query language for relational databases.\n",
    "   - Often used within Jupyter notebooks for database interaction and querying.\n",
    "\n"
   ]
  },
  {
   "cell_type": "markdown",
   "id": "27c1d20e",
   "metadata": {},
   "source": [
    "### Data Science Libraries\n",
    "\n",
    "1. **NumPy**\n",
    "   - Fundamental package for numerical computing with Python.\n",
    "\n",
    "2. **Pandas**\n",
    "   - Data manipulation and analysis library, providing data structures like DataFrames.\n",
    "\n",
    "3. **Matplotlib**\n",
    "   - 2D plotting library for creating static, animated, and interactive visualizations in Python.\n",
    "\n",
    "4. **Seaborn**\n",
    "   - Data visualization library based on Matplotlib, providing a high-level interface for drawing attractive statistical graphics.\n",
    "\n",
    "5. **Scikit-learn**\n",
    "   - Simple and efficient tools for data mining and data analysis. It includes various machine learning algorithms.\n",
    "\n",
    "6. **TensorFlow**\n",
    "   - Open-source machine learning framework developed by Google for building and training deep learning models.\n",
    "\n",
    "7. **PyTorch**\n",
    "   - Deep learning library widely used for tasks like computer vision and natural language processing.\n",
    "\n",
    "8. **Statsmodels**\n",
    "   - Library for estimating and testing statistical models.\n",
    "\n",
    "9. **Scipy**\n",
    "   - Library used for scientific and technical computing, building on NumPy.\n",
    "\n",
    "10. **NLTK (Natural Language Toolkit)**\n",
    "    - Library for working with human language data, such as text.\n",
    "\n"
   ]
  },
  {
   "cell_type": "markdown",
   "id": "5bddf3f2",
   "metadata": {},
   "source": [
    "### Data Science Tools\n",
    "\n",
    "| Tool           | Description                                                   |\n",
    "|----------------|---------------------------------------------------------------|\n",
    "| **Jupyter Notebook** | Interactive computing environment allowing code, text, and visualizations. |\n",
    "| **RStudio**          | Integrated development environment (IDE) for R programming.            |\n",
    "| **Spyder**           | Open-source IDE for Python with advanced editing, debugging, and profiling features. |\n",
    "| **VS Code**          | General-purpose code editor with extensions for various languages, including Python and R. |\n",
    "| **Tableau**          | Data visualization and business intelligence tool.                      |\n",
    "| **Power BI**         | Business analytics tool for creating interactive reports and dashboards. |\n",
    "| **Apache Spark**     | Distributed computing system for big data processing.                    |\n",
    "| **Databricks**       | Unified analytics platform based on Apache Spark.                        |\n",
    "| **Git**              | Version control system for tracking changes in code.                      |\n",
    "| **Docker**           | Platform for developing, shipping, and running applications in containers. |\n",
    "\n",
    "\n"
   ]
  },
  {
   "cell_type": "markdown",
   "id": "fa082699",
   "metadata": {},
   "source": [
    "### Arithmetic Expressions Examples\n",
    "\n",
    "Arithmetic expressions involve mathematical operations and are commonly used in programming and data analysis. Here are some basic examples:\n",
    "\n",
    "1. **Addition (+):**\n",
    "   ```python\n",
    "   result = 5 + 3\n",
    "   # Output: 8\n"
   ]
  },
  {
   "cell_type": "code",
   "execution_count": 2,
   "id": "67bc12f7",
   "metadata": {},
   "outputs": [
    {
     "name": "stdout",
     "output_type": "stream",
     "text": [
      "8\n"
     ]
    }
   ],
   "source": [
    "a = 5 \n",
    "b = 3\n",
    "c = a+b\n",
    "print(c)"
   ]
  },
  {
   "cell_type": "code",
   "execution_count": 3,
   "id": "50df2088",
   "metadata": {},
   "outputs": [
    {
     "name": "stdout",
     "output_type": "stream",
     "text": [
      "15\n"
     ]
    }
   ],
   "source": [
    "d = a*b\n",
    "print(d)"
   ]
  },
  {
   "cell_type": "code",
   "execution_count": 6,
   "id": "adba5b20",
   "metadata": {},
   "outputs": [
    {
     "name": "stdout",
     "output_type": "stream",
     "text": [
      "enter time in minutes200\n",
      "hours =  3\n",
      "mins =  20\n"
     ]
    }
   ],
   "source": [
    "mins=int(input(\"enter time in minutes\"))\n",
    "h = mins // 60\n",
    "m = mins%60 \n",
    "print (\"hours = \",h )\n",
    "print (\"mins = \",m)"
   ]
  },
  {
   "cell_type": "markdown",
   "id": "6e5c7c9e",
   "metadata": {},
   "source": [
    "# Data Science Exploration Notebook\n",
    "\n",
    "Welcome to this data science exploration notebook! In this notebook, we will cover the following topics:\n",
    "\n",
    "## 1. [Introduction to Data Science](#introduction-to-data-science)\n",
    "   - Overview of data science and its applications.\n",
    "   \n",
    "## 2. [Data Science Languages](#data-science-languages)\n",
    "   - Exploration of programming languages commonly used in data science.\n",
    "   - Examples include Python, R, Julia, Scala, and SQL.\n",
    "\n",
    "## 3. [Data Science Libraries](#data-science-libraries)\n",
    "   - List of popular libraries used for data manipulation, analysis, and visualization.\n",
    "   - Examples include NumPy, Pandas, Matplotlib, Seaborn, Scikit-learn, TensorFlow, and more.\n",
    "\n",
    "## 4. [Data Science Tools](#data-science-tools)\n",
    "   - Overview of tools used in the data science workflow.\n",
    "   - Examples include Jupyter Notebook, RStudio, Spyder, Tableau, Power BI, Apache Spark, and Git.\n",
    "\n",
    "## 5. [Arithmetic Expressions Examples](#arithmetic-expressions-examples)\n",
    "   - Introduction to basic arithmetic operations in Python.\n",
    "   - Examples covering addition, subtraction, multiplication, division, floor division, exponentiation, and modulus.\n",
    "\n",
    "Feel free to explore each section to enhance your understanding of data science concepts, languages, libraries, tools, and basic arithmetic expressions. Happy learning!\n"
   ]
  }
 ],
 "metadata": {
  "kernelspec": {
   "display_name": "Python 3 (ipykernel)",
   "language": "python",
   "name": "python3"
  },
  "language_info": {
   "codemirror_mode": {
    "name": "ipython",
    "version": 3
   },
   "file_extension": ".py",
   "mimetype": "text/x-python",
   "name": "python",
   "nbconvert_exporter": "python",
   "pygments_lexer": "ipython3",
   "version": "3.11.5"
  }
 },
 "nbformat": 4,
 "nbformat_minor": 5
}
